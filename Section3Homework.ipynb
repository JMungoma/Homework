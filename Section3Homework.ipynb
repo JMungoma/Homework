{
 "cells": [
  {
   "cell_type": "code",
   "execution_count": null,
   "metadata": {},
   "outputs": [
    {
     "name": "stdout",
     "output_type": "stream",
     "text": [
      "First Name: Joseph , Last Name: Mungoma\n",
      "Favorite Food: Matoke\n",
      "Dream Job:  IT Specialist\n"
     ]
    }
   ],
   "source": [
    "# 6. Write a multi-line string with your name, favorite food, and dream job on 3 different lines\n",
    "\n",
    "FName, LName = \"Joseph\", \"Mungoma\"\n",
    "\n",
    "FavFood = \"Matoke\"\n",
    "\n",
    "DreamJob = \"IT Specialist\"\n",
    "\n",
    "print(\"First Name:\",FName, \", \" \"Last Name:\",LName ) \n",
    "print(\"Favorite Food:\", FavFood)\n",
    "print(\"Dream Job: \" , DreamJob)\n"
   ]
  },
  {
   "cell_type": "code",
   "execution_count": 2,
   "metadata": {},
   "outputs": [
    {
     "name": "stdout",
     "output_type": "stream",
     "text": [
      "The length of z is  41\n",
      "The 4th index value in z string =  s\n"
     ]
    }
   ],
   "source": [
    "#7 7. Assign 5 different data types to 5 different variables. At least one datatype must be a string  \n",
    "    #- Print the length of your string\n",
    "    #- Print the index value of the 4th character in your string\n",
    "\n",
    "z = str(\"It's a beautiful day in the neighbourhood\")\n",
    "x = int(43.8)\n",
    "c = float (50)\n",
    "o = [\"Keyboard\", \"Mouse\", \"Monitor\", \"System Unit\"]\n",
    "i = True\n",
    "\n",
    "# Print the length of your string\n",
    "print(\"The length of z is \", len(z))\n",
    "\n",
    "## Print the index value of the 4th character in your string\n",
    "print(\"The 4th index value in z string = \", z[3])\n"
   ]
  },
  {
   "cell_type": "code",
   "execution_count": null,
   "metadata": {},
   "outputs": [
    {
     "name": "stdout",
     "output_type": "stream",
     "text": [
      "ing Data Analytics \n",
      "Learning Data Analytics and Python is Great!\n"
     ]
    }
   ],
   "source": [
    "#8. Create a new variable called savvy, and assign it the string with this phrase \"Learning Data Analytics and Python is Awesome!\"\n",
    "    #- Return a range of characters that slices the above string from the beginning of  \"ing\" up to before \"and\"\n",
    "    #- Replace \"Awesome\" with \"great\" in the string\n",
    "    #- Test and print the savvy string to see it contains \"Python\"\n",
    "\n",
    "savvy = \"Learning Data Analytics and Python is Awesome!\"\n",
    "\n",
    "# Return a range of characters that slices the above string from the beginning of  \"ing\" up to before \"and\"\n",
    "print(savvy[5:-22])\n",
    "\n",
    "## Replace \"Awesome\" with \"great\" in the string\n",
    "## Test and print the savvy string to see it contains \"Python\"\n",
    "print(savvy.replace(\"Awesome\", \"Great\"))\n",
    "\n"
   ]
  },
  {
   "cell_type": "code",
   "execution_count": 3,
   "metadata": {},
   "outputs": [],
   "source": [
    "## 9. Create and assign 3 more variables called name, age and length using the multi-variable naming method\n",
    "name = \"Dexter\"\n",
    "age = float(18)\n",
    "length = 45\n"
   ]
  },
  {
   "cell_type": "code",
   "execution_count": null,
   "metadata": {},
   "outputs": [
    {
     "name": "stdout",
     "output_type": "stream",
     "text": [
      "Hi my name is Dexter, I am 45 inches tall and 18.0 years old today. \n"
     ]
    }
   ],
   "source": [
    "# Format a new string called 'miniBio' using variables in curly brackets to complete this phrase... \"Hi my name is (name), I am (tall) and (so) old today.\"\n",
    "# Print 'miniBio'\n",
    "\n",
    "miniBio = \"Hi my name is {}, I am {} inches tall and {} years old today. \"\n",
    "print(miniBio.format(name, length, age))"
   ]
  },
  {
   "cell_type": "code",
   "execution_count": 6,
   "metadata": {},
   "outputs": [
    {
     "name": "stdout",
     "output_type": "stream",
     "text": [
      "Hi my name is Dexter, I am 45 inches tall and 18.0 years old today. \n"
     ]
    }
   ],
   "source": [
    "# Cast and print the age variable to a float\n",
    "name = \"Dexter\"\n",
    "age = float(18)\n",
    "length = 45\n",
    "\n",
    "miniBio = \"Hi my name is {}, I am {} inches tall and {} years old today. \"\n",
    "print(miniBio.format(name, length, age))"
   ]
  },
  {
   "cell_type": "code",
   "execution_count": null,
   "metadata": {},
   "outputs": [
    {
     "name": "stdout",
     "output_type": "stream",
     "text": [
      "Composition of the anatomy is:  ['body', 2.0, {'Number of fingers': '5 total'}, True, 'parts']\n"
     ]
    }
   ],
   "source": [
    "# 10. Create a list of at least 5 elements of mixed data types.\n",
    "\n",
    "anatomy = [\"body\", 2.0, {\"Number of fingers\": \"5 total\"}, True, \"parts\"]\n",
    "print((\"Composition of the anatomy is: \"), anatomy)"
   ]
  },
  {
   "cell_type": "code",
   "execution_count": null,
   "metadata": {},
   "outputs": [
    {
     "name": "stdout",
     "output_type": "stream",
     "text": [
      "Boolean replace with:  ['body', 2.0, {'Number of fingers': '5 total'}, 'False', 'parts']\n"
     ]
    }
   ],
   "source": [
    "# Replace a part of it with something else\n",
    "\n",
    "anatomy = [\"body\", 2.0, {\"Number of fingers\": \"5 total\"}, True, \"parts\"]\n",
    "anatomy[3] = \"False\"\n",
    "print(\"Boolean replace with: \", anatomy)"
   ]
  },
  {
   "cell_type": "code",
   "execution_count": null,
   "metadata": {},
   "outputs": [
    {
     "name": "stdout",
     "output_type": "stream",
     "text": [
      "['body', 2.0, {'Number of fingers': '5 total'}, True, 'parts', 'skin', 'hair', 'feet']\n"
     ]
    }
   ],
   "source": [
    "# Append or insert several more items to the list\n",
    "\n",
    "anatomy.extend([\"skin\", \"hair\", \"feet\"])\n",
    "print(anatomy)"
   ]
  },
  {
   "cell_type": "code",
   "execution_count": 10,
   "metadata": {},
   "outputs": [
    {
     "name": "stdout",
     "output_type": "stream",
     "text": [
      "Length of anatomy list =  5\n"
     ]
    }
   ],
   "source": [
    "# Find and print the length of the list\n",
    "\n",
    "anatomy = [\"body\", 2.0, {\"Number of fingers\": \"5 total\"}, True, \"parts\"]\n",
    "print(\"Length of anatomy list = \",len(anatomy))\n"
   ]
  },
  {
   "cell_type": "code",
   "execution_count": null,
   "metadata": {},
   "outputs": [
    {
     "name": "stdout",
     "output_type": "stream",
     "text": [
      "[{'Number of fingers': '5 total'}, True]\n"
     ]
    }
   ],
   "source": [
    "# Slice a sub-section of the 1st list, and save it to a different 2nd list\n",
    "# Print the 2nd list\n",
    "arms = anatomy[2:-1]\n",
    "print(arms)"
   ]
  },
  {
   "cell_type": "code",
   "execution_count": 12,
   "metadata": {},
   "outputs": [
    {
     "name": "stdout",
     "output_type": "stream",
     "text": [
      "['body', 2.0, {'Number of fingers': '5 total'}, True, 'parts', {'Number of fingers': '5 total'}, True]\n"
     ]
    }
   ],
   "source": [
    "# Extend your original list with the 2nd list sliced above\n",
    "\n",
    "anatomy.extend(arms)\n",
    "print(anatomy)"
   ]
  },
  {
   "cell_type": "code",
   "execution_count": 13,
   "metadata": {},
   "outputs": [
    {
     "name": "stdout",
     "output_type": "stream",
     "text": [
      "[10, 20, 40, 160, 200]\n"
     ]
    }
   ],
   "source": [
    "# Create a new list called \"simList\" containing at least 5 elements of the same data type, either string, integer, float, or Boolean\n",
    "# Sort \"simList\", and print the list\n",
    "\n",
    "simList = [40, 20, 160, 200, 10]\n",
    "simList.sort()\n",
    "print(simList)"
   ]
  },
  {
   "cell_type": "code",
   "execution_count": 16,
   "metadata": {},
   "outputs": [
    {
     "name": "stdout",
     "output_type": "stream",
     "text": [
      "[10, 20, 40, 160, 200, 10, 20, 40, 160, 200]\n"
     ]
    }
   ],
   "source": [
    "# Copy the \"simList\" list to another 3rd list\n",
    "athirdList = simList.copy()\n",
    "\n",
    "# Add the 2nd and 3rd lists together into a 4th list\n",
    "fourthList = athirdList + simList\n",
    "print(fourthList)\n"
   ]
  },
  {
   "cell_type": "code",
   "execution_count": 17,
   "metadata": {},
   "outputs": [],
   "source": [
    "# 11. Create a tuple of about 5 elements\n",
    "# Multiply your tuple by 3 and save it to a new 2nd tuple\n",
    "\n",
    "tools = ('saw', 'hammer' , '12-gauge wire', 'wood', 'screwdriver') \n",
    "xtools = tools * 3"
   ]
  },
  {
   "cell_type": "code",
   "execution_count": 18,
   "metadata": {},
   "outputs": [
    {
     "name": "stdout",
     "output_type": "stream",
     "text": [
      "The 12th element of this tuple is... 12\n"
     ]
    }
   ],
   "source": [
    "# Access and print the 12th element from the 2nd tuple\n",
    "\n",
    "tools = ('saw', 'hammer' , 12, 'wood', 'screwdriver') \n",
    "xtools = tools * 3\n",
    "print('The 12th element of this tuple is...', xtools[12])"
   ]
  },
  {
   "cell_type": "code",
   "execution_count": 43,
   "metadata": {},
   "outputs": [
    {
     "name": "stdout",
     "output_type": "stream",
     "text": [
      "Sorted tuple list is... (1, 8, 12, 9, 6, 1, 8, 12, 9, 6, 1, 8, 12, 9, 6)\n"
     ]
    }
   ],
   "source": [
    "# Sort the 2nd tuple and print it\n",
    "sorted(xtools)\n",
    "print('Sorted tuple list is...', xtools)"
   ]
  },
  {
   "cell_type": "code",
   "execution_count": 22,
   "metadata": {},
   "outputs": [
    {
     "name": "stdout",
     "output_type": "stream",
     "text": [
      "Set containing 3 elements:  {'Carlifonia', 'Missouri', 'Florida'}\n",
      "New mixed set: {'Missouri', 'Steering Wheel', 'Passion Fruit', 'Florida', 'Papaya', 'Carlifonia', 'Honey Dew'}\n"
     ]
    }
   ],
   "source": [
    "# 12. Create a set of about 3 elements \n",
    "StateSet = {\"Missouri\" , \"Carlifonia\", \"Florida\"}\n",
    "print(\"Set containing 3 elements: \" , StateSet)\n",
    "\n",
    "# Add a list of fruits to the above set and print the result\n",
    "# Add a car element to your set\n",
    "StateSet.add(\"Papaya\")\n",
    "StateSet.add(\"Passion Fruit\")\n",
    "StateSet.add(\"Honey Dew\")\n",
    "StateSet.add(\"Steering Wheel\")\n",
    "print('New mixed set:', StateSet)"
   ]
  },
  {
   "cell_type": "code",
   "execution_count": 34,
   "metadata": {},
   "outputs": [
    {
     "name": "stdout",
     "output_type": "stream",
     "text": [
      "Union of first set and third set is: {'T-Shirt', 'Garage', 'Curtains'}\n"
     ]
    }
   ],
   "source": [
    "#Create a 2nd set with a few odd items\n",
    "#Save the union of 1st set and 2nd set to a 3rd set\n",
    "OddSet = {\"T-Shirt\", \"Garage\", \"Curtains\"}\n",
    "OddStateSet = StateSet.union(OddSet)\n",
    "print(\"Union of first set and third set is:\",OddStateSet)"
   ]
  },
  {
   "cell_type": "code",
   "execution_count": 38,
   "metadata": {},
   "outputs": [
    {
     "name": "stdout",
     "output_type": "stream",
     "text": [
      "Popped element:  T-Shirt\n"
     ]
    }
   ],
   "source": [
    "## Pop an element from the 2nd set, and print the remainder of the set\n",
    "OddSet = {\"T-Shirt\", \"Garage\", \"Curtains\"}\n",
    "pop_element = OddSet.pop()\n",
    "print(\"Popped element: \", pop_element)\n",
    "\n"
   ]
  },
  {
   "cell_type": "code",
   "execution_count": 28,
   "metadata": {},
   "outputs": [
    {
     "name": "stdout",
     "output_type": "stream",
     "text": [
      "Cleared 1st set:  set()\n"
     ]
    }
   ],
   "source": [
    "#Clear the 1st set and print the result\n",
    "StateSet.clear()\n",
    "print(\"Cleared 1st set: \" , StateSet)"
   ]
  },
  {
   "cell_type": "code",
   "execution_count": null,
   "metadata": {},
   "outputs": [
    {
     "name": "stdout",
     "output_type": "stream",
     "text": [
      "{'T-Shirt'}\n"
     ]
    }
   ],
   "source": [
    "#Discard an element, and remove another element from the 3rd set\n",
    "#Print the remainder of the 3rd set\n",
    "d_element = \"Garage\"\n",
    "OddStateSet.discard(d_element)\n",
    "OddStateSet.remove(\"Curtains\")\n",
    "print(OddStateSet)"
   ]
  },
  {
   "cell_type": "code",
   "execution_count": 59,
   "metadata": {},
   "outputs": [
    {
     "name": "stdout",
     "output_type": "stream",
     "text": [
      "User's playlist is:  {'artist': 'New Era', 'album': 'Omega', 'genre': 'Blues', 'year': 1986}\n"
     ]
    }
   ],
   "source": [
    "#13. Create a dictionary with at least 5 values of different data types\n",
    "playlist = {\n",
    "    \"artist\": \"New Era\",\n",
    "    \"album\": \"Omega\",\n",
    "    \"genre\": \"Blues\",\n",
    "    \"year\": 1986\n",
    "}\n",
    "print(\"User's playlist is: \", playlist)"
   ]
  },
  {
   "cell_type": "code",
   "execution_count": 60,
   "metadata": {},
   "outputs": [
    {
     "data": {
      "text/plain": [
       "'Omega'"
      ]
     },
     "execution_count": 60,
     "metadata": {},
     "output_type": "execute_result"
    }
   ],
   "source": [
    "#Print out 1 value\n",
    "playlist[\"album\"]"
   ]
  },
  {
   "cell_type": "code",
   "execution_count": 61,
   "metadata": {},
   "outputs": [
    {
     "name": "stdout",
     "output_type": "stream",
     "text": [
      "{'artist': 'Joe', 'album': 'Omega', 'genre': 'Blues', 'year': 1986}\n"
     ]
    }
   ],
   "source": [
    "#Replace any one value in your dictionary with your name\n",
    "playlist[\"artist\"] = \"Joe\"\n",
    "playlist[\"artist\"]\n",
    "print(playlist)"
   ]
  },
  {
   "cell_type": "code",
   "execution_count": null,
   "metadata": {},
   "outputs": [
    {
     "name": "stdout",
     "output_type": "stream",
     "text": [
      "{'artist': 'Joe', 'album': 'Omega', 'genre': 'Blues', 'year': 1986, 'color': 'gold'}\n"
     ]
    }
   ],
   "source": [
    "#Add your favorite color to the dictionary\n",
    "playlist.update(color=\"gold\")\n",
    "playlist[\"color\"]\n",
    "print(playlist)\n"
   ]
  },
  {
   "cell_type": "code",
   "execution_count": null,
   "metadata": {},
   "outputs": [
    {
     "name": "stdout",
     "output_type": "stream",
     "text": [
      "{'artist': 'New Era', 'album': 'Omega', 'genre': 'Blues', 'year': 1986, ('J.Green', 'A.Smith', 'I.Carpenter'): 'composers'}\n"
     ]
    }
   ],
   "source": [
    "#Add a list, tuple or set to your dictionary\n",
    "playlist = {\n",
    "    \"artist\": \"New Era\",\n",
    "    \"album\": \"Omega\",\n",
    "    \"genre\": \"Blues\",\n",
    "    \"year\": 1986,\n",
    "    (\"J.Green\", \"A.Smith\", \"I.Carpenter\"): \"composers\"\n",
    "}\n",
    "print(playlist)"
   ]
  },
  {
   "cell_type": "code",
   "execution_count": null,
   "metadata": {},
   "outputs": [
    {
     "data": {
      "text/plain": [
       "['artist', 'album', 'genre', 'year', ('J.Green', 'A.Smith', 'I.Carpenter')]"
      ]
     },
     "execution_count": 64,
     "metadata": {},
     "output_type": "execute_result"
    }
   ],
   "source": [
    "#Print a list of the dictionary keys\n",
    "keys = playlist.keys()\n",
    "list(keys)"
   ]
  },
  {
   "cell_type": "code",
   "execution_count": null,
   "metadata": {},
   "outputs": [
    {
     "data": {
      "text/plain": [
       "['New Era', 'Omega', 'Blues', 1986, 'composers']"
      ]
     },
     "execution_count": 65,
     "metadata": {},
     "output_type": "execute_result"
    }
   ],
   "source": [
    "#Print a list of the dictionary values\n",
    "values = playlist.values()\n",
    "list(values)"
   ]
  },
  {
   "cell_type": "code",
   "execution_count": 66,
   "metadata": {},
   "outputs": [],
   "source": [
    "#Copy your 1st dictionary into a 2nd dictionary\n",
    "musicdict = playlist.copy()"
   ]
  },
  {
   "cell_type": "code",
   "execution_count": 67,
   "metadata": {},
   "outputs": [
    {
     "name": "stdout",
     "output_type": "stream",
     "text": [
      "(('J.Green', 'A.Smith', 'I.Carpenter'), 'composers')\n",
      "{'artist': 'New Era', 'album': 'Omega', 'genre': 'Blues', 'year': 1986}\n"
     ]
    }
   ],
   "source": [
    "#Pop an item from the 2nd dictionary, and print the dictionary\n",
    "musicdict = playlist.copy()\n",
    "item = musicdict.popitem()\n",
    "print(item)\n",
    "print(musicdict)"
   ]
  },
  {
   "cell_type": "code",
   "execution_count": 69,
   "metadata": {},
   "outputs": [
    {
     "name": "stdout",
     "output_type": "stream",
     "text": [
      "Music dictionary after clear:  {}\n"
     ]
    }
   ],
   "source": [
    "# Remove all the elements from the 2nd dictionary and print the result\n",
    "musicdict = playlist.copy()\n",
    "musicdict.clear()\n",
    "print(\"Music dictionary after clear: \", musicdict)"
   ]
  }
 ],
 "metadata": {
  "kernelspec": {
   "display_name": "Python 3",
   "language": "python",
   "name": "python3"
  },
  "language_info": {
   "codemirror_mode": {
    "name": "ipython",
    "version": 3
   },
   "file_extension": ".py",
   "mimetype": "text/x-python",
   "name": "python",
   "nbconvert_exporter": "python",
   "pygments_lexer": "ipython3",
   "version": "3.13.2"
  }
 },
 "nbformat": 4,
 "nbformat_minor": 2
}
