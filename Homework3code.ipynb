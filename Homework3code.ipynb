{
 "cells": [
  {
   "cell_type": "code",
   "execution_count": null,
   "metadata": {},
   "outputs": [
    {
     "name": "stdout",
     "output_type": "stream",
     "text": [
      "First Name: Joseph , Last Name: Mungoma\n",
      "Favorite Food: Matoke\n",
      "Dream Job:  IT Specialist\n"
     ]
    }
   ],
   "source": [
    "# 6. Write a multi-line string with your name, favorite food, and dream job on 3 different lines\n",
    "\n",
    "FName, LName = \"Joseph\", \"Mungoma\"\n",
    "\n",
    "FavFood = \"Matoke\"\n",
    "\n",
    "DreamJob = \"IT Specialist\"\n",
    "\n",
    "print(\"First Name:\",FName, \", \" \"Last Name:\",LName ) \n",
    "print(\"Favorite Food:\", FavFood)\n",
    "print(\"Dream Job: \" , DreamJob)\n"
   ]
  },
  {
   "cell_type": "code",
   "execution_count": 33,
   "metadata": {},
   "outputs": [
    {
     "name": "stdout",
     "output_type": "stream",
     "text": [
      "The length of z is  41\n",
      "The 4th index value in z string =  s\n"
     ]
    }
   ],
   "source": [
    "#7 7. Assign 5 different data types to 5 different variables. At least one datatype must be a string  \n",
    "    #- Print the length of your string\n",
    "    #- Print the index value of the 4th character in your string\n",
    "\n",
    "z = str(\"It's a beautiful day in the neighbourhood\")\n",
    "x = int(43.8)\n",
    "c = float (50)\n",
    "o = [\"Keyboard\", \"Mouse\", \"Monitor\", \"System Unit\"]\n",
    "i = True\n",
    "\n",
    "#Output\n",
    "print(\"The length of z is \", len(z))\n",
    "print(\"The 4th index value in z string = \", z[3])\n"
   ]
  },
  {
   "cell_type": "code",
   "execution_count": 44,
   "metadata": {},
   "outputs": [
    {
     "name": "stdout",
     "output_type": "stream",
     "text": [
      "ing Data Analytics \n",
      "Learning Data Analytics and Python is Great!\n"
     ]
    }
   ],
   "source": [
    "#8. Create a new variable called savvy, and assign it the string with this phrase \"Learning Data Analytics and Python is Awesome!\"\n",
    "    #- Return a range of characters that slices the above string from the beginning of  \"ing\" up to before \"and\"\n",
    "    #- Replace \"Awesome\" with \"great\" in the string\n",
    "    #- Test and print the savvy string to see it contains \"Python\"\n",
    "\n",
    "savvy = \"Learning Data Analytics and Python is Awesome!\"\n",
    "\n",
    "#Output\n",
    "print(savvy[5:-22])\n",
    "print(savvy.replace(\"Awesome\", \"Great\"))"
   ]
  },
  {
   "cell_type": "code",
   "execution_count": null,
   "metadata": {},
   "outputs": [],
   "source": []
  }
 ],
 "metadata": {
  "kernelspec": {
   "display_name": "Python 3",
   "language": "python",
   "name": "python3"
  },
  "language_info": {
   "codemirror_mode": {
    "name": "ipython",
    "version": 3
   },
   "file_extension": ".py",
   "mimetype": "text/x-python",
   "name": "python",
   "nbconvert_exporter": "python",
   "pygments_lexer": "ipython3",
   "version": "3.13.2"
  }
 },
 "nbformat": 4,
 "nbformat_minor": 2
}
